{
  "nbformat": 4,
  "nbformat_minor": 0,
  "metadata": {
    "colab": {
      "provenance": [],
      "authorship_tag": "ABX9TyPOmv3SlXzemKw/1Q7pcd+8",
      "include_colab_link": true
    },
    "kernelspec": {
      "name": "python3",
      "display_name": "Python 3"
    },
    "language_info": {
      "name": "python"
    }
  },
  "cells": [
    {
      "cell_type": "markdown",
      "metadata": {
        "id": "view-in-github",
        "colab_type": "text"
      },
      "source": [
        "<a href=\"https://colab.research.google.com/github/Vaibhav074N/PPT-Assigement-7/blob/main/PPT_Assigement_7.ipynb\" target=\"_parent\"><img src=\"https://colab.research.google.com/assets/colab-badge.svg\" alt=\"Open In Colab\"/></a>"
      ]
    },
    {
      "cell_type": "markdown",
      "source": [
        "<aside>\n",
        "💡 **Question 1**\n",
        "\n",
        "Given two strings s and t, *determine if they are isomorphic*.\n",
        "\n",
        "Two strings s and t are isomorphic if the characters in s can be replaced to get t.\n",
        "\n",
        "All occurrences of a character must be replaced with another character while preserving the order of characters. No two characters may map to the same character, but a character may map to itself.\n",
        "\n",
        "**Example 1:**\n",
        "\n",
        "**Input:** s = \"egg\", t = \"add\"\n",
        "\n",
        "**Output:** true\n",
        "\n",
        "</aside>"
      ],
      "metadata": {
        "id": "hRSNnxBkMier"
      }
    },
    {
      "cell_type": "code",
      "source": [
        "def is_isomorphic(s, t):\n",
        "    if len(s) != len(t):\n",
        "        return False\n",
        "\n",
        "    mapping_s = {}\n",
        "    mapping_t = {}\n",
        "\n",
        "    for i in range(len(s)):\n",
        "        char_s = s[i]\n",
        "        char_t = t[i]\n",
        "\n",
        "        if char_s in mapping_s:\n",
        "            if mapping_s[char_s] != char_t:\n",
        "                return False\n",
        "        else:\n",
        "            mapping_s[char_s] = char_t\n",
        "\n",
        "        if char_t in mapping_t:\n",
        "            if mapping_t[char_t] != char_s:\n",
        "                return False\n",
        "        else:\n",
        "            mapping_t[char_t] = char_s\n",
        "\n",
        "    return True\n",
        "\n",
        "s = \"egg\"\n",
        "t = \"add\"\n",
        "result = is_isomorphic(s, t)\n",
        "print(result)"
      ],
      "metadata": {
        "id": "f2uoyACbMi23",
        "colab": {
          "base_uri": "https://localhost:8080/"
        },
        "outputId": "98d6904f-c440-415e-b6cb-64742fe9088a"
      },
      "execution_count": null,
      "outputs": [
        {
          "output_type": "stream",
          "name": "stdout",
          "text": [
            "True\n"
          ]
        }
      ]
    },
    {
      "cell_type": "code",
      "source": [],
      "metadata": {
        "id": "CRG4HUhnYExa"
      },
      "execution_count": null,
      "outputs": []
    },
    {
      "cell_type": "markdown",
      "source": [
        "<aside>\n",
        "💡 **Question 2**\n",
        "\n",
        "Given a string num which represents an integer, return true *if* num *is a **strobogrammatic number***.\n",
        "\n",
        "A **strobogrammatic number** is a number that looks the same when rotated 180 degrees (looked at upside down).\n",
        "\n",
        "**Example 1:**\n",
        "\n",
        "**Input:** num = \"69\"\n",
        "\n",
        "**Output:**\n",
        "\n",
        "true\n",
        "\n",
        "</aside>"
      ],
      "metadata": {
        "id": "JOcBiadeMjPr"
      }
    },
    {
      "cell_type": "code",
      "source": [
        "def is_strobogrammatic(num):\n",
        "    strobogrammatic_digits = {'0': '0', '1': '1', '6': '9', '8': '8', '9': '6'}\n",
        "\n",
        "    left = 0\n",
        "    right = len(num) - 1\n",
        "\n",
        "    while left <= right:\n",
        "        if num[left] not in strobogrammatic_digits or num[right] not in strobogrammatic_digits:\n",
        "            return False\n",
        "\n",
        "        if strobogrammatic_digits[num[left]] != num[right]:\n",
        "            return False\n",
        "\n",
        "        left += 1\n",
        "        right -= 1\n",
        "\n",
        "    return True\n",
        "\n",
        "num = \"69\"\n",
        "result = is_strobogrammatic(num)\n",
        "print(result)"
      ],
      "metadata": {
        "id": "nPnpXBnHMjqN",
        "colab": {
          "base_uri": "https://localhost:8080/"
        },
        "outputId": "b4969f2f-e193-4e26-bcb9-01b3f3c24dd6"
      },
      "execution_count": null,
      "outputs": [
        {
          "output_type": "stream",
          "name": "stdout",
          "text": [
            "True\n"
          ]
        }
      ]
    },
    {
      "cell_type": "code",
      "source": [],
      "metadata": {
        "id": "CvITVrZ0ZBnF"
      },
      "execution_count": null,
      "outputs": []
    },
    {
      "cell_type": "markdown",
      "source": [
        "<aside>\n",
        "💡 **Question 3**\n",
        "\n",
        "Given two non-negative integers, num1 and num2 represented as string, return *the sum of* num1 *and* num2 *as a string*.\n",
        "\n",
        "You must solve the problem without using any built-in library for handling large integers (such as BigInteger). You must also not convert the inputs to integers directly.\n",
        "\n",
        "**Example 1:**\n",
        "\n",
        "**Input:** num1 = \"11\", num2 = \"123\"\n",
        "\n",
        "**Output:**\n",
        "\n",
        "\"134\"\n",
        "\n",
        "</aside>"
      ],
      "metadata": {
        "id": "l3OJ7cLAMkFZ"
      }
    },
    {
      "cell_type": "code",
      "source": [
        "def addStrings(num1, num2):\n",
        "    i = len(num1) - 1\n",
        "    j = len(num2) - 1\n",
        "    carry = 0\n",
        "    result = \"\"\n",
        "\n",
        "    while i >= 0 or j >= 0:\n",
        "        digit1 = int(num1[i]) if i >= 0 else 0\n",
        "        digit2 = int(num2[j]) if j >= 0 else 0\n",
        "        currentSum = digit1 + digit2 + carry\n",
        "\n",
        "        carry = currentSum // 10\n",
        "        currentSum %= 10\n",
        "\n",
        "        result += str(currentSum)\n",
        "\n",
        "        i -= 1\n",
        "        j -= 1\n",
        "\n",
        "    if carry:\n",
        "        result += str(carry)\n",
        "\n",
        "    return result[::-1]\n",
        "\n",
        "num1 = \"11\"\n",
        "num2 = \"123\"\n",
        "print(addStrings(num1, num2))"
      ],
      "metadata": {
        "id": "_JUx6SxDMkci",
        "colab": {
          "base_uri": "https://localhost:8080/"
        },
        "outputId": "66b88d29-3ac1-46de-b70e-e2b13c8287a2"
      },
      "execution_count": null,
      "outputs": [
        {
          "output_type": "stream",
          "name": "stdout",
          "text": [
            "134\n"
          ]
        }
      ]
    },
    {
      "cell_type": "code",
      "source": [],
      "metadata": {
        "id": "F47i3UXydf6K"
      },
      "execution_count": null,
      "outputs": []
    },
    {
      "cell_type": "markdown",
      "source": [
        "<aside>\n",
        "💡 **Question 4**\n",
        "\n",
        "Given a string s, reverse the order of characters in each word within a sentence while still preserving whitespace and initial word order.\n",
        "\n",
        "**Example 1:**\n",
        "\n",
        "**Input:** s = \"Let's take LeetCode contest\"\n",
        "\n",
        "**Output:** \"s'teL ekat edoCteeL tsetnoc\"\n",
        "\n",
        "</aside>"
      ],
      "metadata": {
        "id": "rn2bZaIOMk5p"
      }
    },
    {
      "cell_type": "code",
      "source": [
        "def rev(s):\n",
        "  s=s.split()\n",
        "  ans=[]\n",
        "  for i in s:\n",
        "    i[::-1]\n",
        "    ans.append(i[::-1])\n",
        "\n",
        "  return \" \".join(ans)\n",
        "\n",
        "s = \"Let's take LeetCode contest\"\n",
        "print(rev(s))"
      ],
      "metadata": {
        "id": "CK1t6959MlRr",
        "colab": {
          "base_uri": "https://localhost:8080/"
        },
        "outputId": "cbc66134-cd10-47ff-a53a-c0819c41e615"
      },
      "execution_count": null,
      "outputs": [
        {
          "output_type": "stream",
          "name": "stdout",
          "text": [
            "s'teL ekat edoCteeL tsetnoc\n"
          ]
        }
      ]
    },
    {
      "cell_type": "code",
      "source": [],
      "metadata": {
        "id": "2hfh8tqrdgmP"
      },
      "execution_count": null,
      "outputs": []
    },
    {
      "cell_type": "markdown",
      "source": [
        "<aside>\n",
        "💡 **Question 5**\n",
        "\n",
        "Given a string s and an integer k, reverse the first k characters for every 2k characters counting from the start of the string.\n",
        "\n",
        "If there are fewer than k characters left, reverse all of them. If there are less than 2k but greater than or equal to k characters, then reverse the first k characters and leave the other as original.\n",
        "\n",
        "**Example 1:**\n",
        "\n",
        "**Input:** s = \"abcdefg\", k = 2\n",
        "\n",
        "**Output:**\n",
        "\n",
        "\"bacdfeg\"\n",
        "\n",
        "</aside>"
      ],
      "metadata": {
        "id": "kMiLO0vYMltR"
      }
    },
    {
      "cell_type": "code",
      "source": [
        "def f(s):\n",
        "  s=list(s)\n",
        "  n=len(s)\n",
        "  for i in range(0,n,4):\n",
        "    s[i],s[i+1]=s[i+1],s[i]\n",
        "\n",
        "  return \"\".join(s)\n",
        "\n",
        "s='abcdefg'\n",
        "print(f(s))"
      ],
      "metadata": {
        "id": "fTkzbywmMmFf",
        "colab": {
          "base_uri": "https://localhost:8080/"
        },
        "outputId": "940d2a8f-5b5c-4688-bdfa-55346262fa9c"
      },
      "execution_count": null,
      "outputs": [
        {
          "output_type": "stream",
          "name": "stdout",
          "text": [
            "bacdfeg\n"
          ]
        }
      ]
    },
    {
      "cell_type": "code",
      "source": [],
      "metadata": {
        "id": "NZgBE2BUdhR_"
      },
      "execution_count": null,
      "outputs": []
    },
    {
      "cell_type": "markdown",
      "source": [
        "<aside>\n",
        "💡 **Question 6**\n",
        "\n",
        "Given two strings s and goal, return true *if and only if* s *can become* goal *after some number of **shifts** on* s.\n",
        "\n",
        "A **shift** on s consists of moving the leftmost character of s to the rightmost position.\n",
        "\n",
        "- For example, if s = \"abcde\", then it will be \"bcdea\" after one shift.\n",
        "\n",
        "**Example 1:**\n",
        "\n",
        "**Input:** s = \"abcde\", goal = \"cdeab\"\n",
        "\n",
        "**Output:**\n",
        "\n",
        "true\n",
        "\n",
        "</aside>"
      ],
      "metadata": {
        "id": "6F9-7HQrMmam"
      }
    },
    {
      "cell_type": "code",
      "source": [
        "def can_shift_to_goal(s, goal):\n",
        "    if len(s) != len(goal):\n",
        "        return False\n",
        "    return goal in (s+s)\n",
        "\n",
        "s = \"abcde\"\n",
        "goal = \"cdeab\"\n",
        "print(can_shift_to_goal(s, goal))"
      ],
      "metadata": {
        "id": "6pQtl3S-MnN3",
        "colab": {
          "base_uri": "https://localhost:8080/"
        },
        "outputId": "7cf26058-d70b-435b-a5f8-d086125d5436"
      },
      "execution_count": 3,
      "outputs": [
        {
          "output_type": "stream",
          "name": "stdout",
          "text": [
            "True\n"
          ]
        }
      ]
    },
    {
      "cell_type": "code",
      "source": [],
      "metadata": {
        "id": "OK9vrDMddiAz"
      },
      "execution_count": null,
      "outputs": []
    },
    {
      "cell_type": "markdown",
      "source": [
        "<aside>\n",
        "💡 **Question 7**\n",
        "\n",
        "Given two strings s and t, return true *if they are equal when both are typed into empty text editors*. '#' means a backspace character.\n",
        "\n",
        "Note that after backspacing an empty text, the text will continue empty.\n",
        "\n",
        "**Example 1:**\n",
        "\n",
        "**Input:** s = \"ab#c\", t = \"ad#c\"\n",
        "\n",
        "**Output:** true\n",
        "\n",
        "**Explanation:**\n",
        "\n",
        "Both s and t become \"ac\".\n",
        "\n",
        "</aside>"
      ],
      "metadata": {
        "id": "IhU96gr5M3iv"
      }
    },
    {
      "cell_type": "code",
      "source": [
        "def process_string(s):\n",
        "    stack = []\n",
        "    for char in s:\n",
        "        if char != '#':\n",
        "            stack.append(char)\n",
        "        elif stack:\n",
        "            stack.pop()\n",
        "    return ''.join(stack)\n",
        "\n",
        "def backspace_compare(s, t):\n",
        "    return process_string(s) == process_string(t)\n",
        "\n",
        "\n",
        "s = \"ab#c\"\n",
        "t = \"ad#c\"\n",
        "print(backspace_compare(s, t))"
      ],
      "metadata": {
        "id": "vx9tIRWmM4Bp",
        "colab": {
          "base_uri": "https://localhost:8080/"
        },
        "outputId": "cd4f7b2a-e243-451f-c7fb-7afc49a2550a"
      },
      "execution_count": 4,
      "outputs": [
        {
          "output_type": "stream",
          "name": "stdout",
          "text": [
            "True\n"
          ]
        }
      ]
    },
    {
      "cell_type": "markdown",
      "source": [
        "<aside>\n",
        "💡 **Question 8**\n",
        "\n",
        "You are given an array coordinates, coordinates[i] = [x, y], where [x, y] represents the coordinate of a point. Check if these points make a straight line in the XY plane.\n",
        "\n",
        "**Example 1:**\n",
        "**Input:** coordinates = [[1,2],[2,3],[3,4],[4,5],[5,6],[6,7]]\n",
        "\n",
        "**Output:** true\n",
        "</aside>"
      ],
      "metadata": {
        "id": "vEjxNO_lNG5N"
      }
    },
    {
      "cell_type": "code",
      "source": [
        "def checkStraightLine(coordinates):\n",
        "    if len(coordinates) <= 2:\n",
        "        return True\n",
        "\n",
        "    x1, y1 = coordinates[0]\n",
        "    x2, y2 = coordinates[1]\n",
        "    for i in range(2, len(coordinates)):\n",
        "        x, y = coordinates[i]\n",
        "        if (y2 - y1) * (x - x1) != (y - y1) * (x2 - x1):\n",
        "            return False\n",
        "    return True\n",
        "\n",
        "coordinates = [[1,2],[2,3],[3,4],[4,5],[5,6],[6,7]]\n",
        "print(checkStraightLine(coordinates))"
      ],
      "metadata": {
        "id": "0TLc9vrjNHMU",
        "colab": {
          "base_uri": "https://localhost:8080/"
        },
        "outputId": "b208caac-b813-42ff-ecb0-43b0b12ca442"
      },
      "execution_count": 5,
      "outputs": [
        {
          "output_type": "stream",
          "name": "stdout",
          "text": [
            "True\n"
          ]
        }
      ]
    },
    {
      "cell_type": "code",
      "source": [],
      "metadata": {
        "id": "8_Oa0tU14F_6"
      },
      "execution_count": null,
      "outputs": []
    },
    {
      "cell_type": "code",
      "source": [],
      "metadata": {
        "id": "Ybgq4Rpi4W2-"
      },
      "execution_count": null,
      "outputs": []
    }
  ]
}